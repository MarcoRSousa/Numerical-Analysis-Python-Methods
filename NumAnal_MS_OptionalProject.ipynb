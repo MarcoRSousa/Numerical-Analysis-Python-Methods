{
 "cells": [
  {
   "cell_type": "markdown",
   "metadata": {},
   "source": [
    "# Numerical Analysis Optional Assignment #\n",
    "Name: Marco Sousa\n",
    "<br> Date: November 29th\n",
    "<br> Details: This is an optional assignment for MTH 361 (Numerical Analysis). We were to play with the MATLAB code relating to our numerical analysis course. Related code can be found [here](http://yanlaichen.reawritingmath.com/fall19_361/code/) courtesy of Professor Yanlai Chen @UMassD.\n",
    "\n",
    "I'm not as confident with MATLAB as I am python, so I wrote the covered topis in ways I found intuitive in Python, and did some extra work for it (I chose to create code respective to each of the four sections we covered).\n",
    "1. [Iterative Schemes](#first-bullet)\n",
    "    1. Bisection\n",
    "    2. Chord\n",
    "    3. Secant\n",
    "    4. Newton\n",
    "    5. Fixed Point Iteration\n",
    "2. [1D Lagrange Interpolation](#second-bullet)\n",
    "3. [Numerical Integrations](#third-bullet)\n",
    "    1. Midpoint\n",
    "    2. Trap\n",
    "    3. Simpson's\n",
    "    4. Brief Error Order Analysis\n",
    "4. [Numerical Derivation](#fourth-bullet)\n",
    "    1. Forward Euler (Explicit)\n",
    "    2. Backwards Euler (Implicit)\n",
    "\n",
    "I often have my functions defined with Python Docstrings (labelled INPUT, OUTPUT, Functionality, Limitations) if additional info is needed on the output or if the example is not clear.\n",
    "<br>\n",
    "Recall that if you import the .py version of this for use, one can easily access the docstrings with ipython. Also recall if you import as mn, then mn. gives a list of the my functions."
   ]
  },
  {
   "cell_type": "code",
   "execution_count": null,
   "metadata": {},
   "outputs": [],
   "source": []
  },
  {
   "cell_type": "code",
   "execution_count": 1,
   "metadata": {},
   "outputs": [],
   "source": [
    "#Importing\n",
    "import numpy as np\n",
    "from scipy.misc import derivative\n",
    "#Altair would've looked better but lazy matplotlib is sufficient.\n",
    "#import altair as alt\n",
    "import matplotlib.pyplot as plt\n",
    "#For Newton Iteration\n",
    "from scipy.misc import derivative"
   ]
  },
  {
   "cell_type": "code",
   "execution_count": 2,
   "metadata": {},
   "outputs": [],
   "source": [
    "# Here are some functions for us to play with.\n",
    "\n",
    "def sinFunction(x):\n",
    "    return (np.sin(x))\n",
    "\n",
    "def polyFunc1(x):\n",
    "    return((x-3)*(x-1))\n",
    "\n",
    "def polyFunc2(x):\n",
    "    return((x-1)*(x+1)*(x-2))\n",
    "\n",
    "def polyFunc3(x):\n",
    "    return(x**2 - 2)\n",
    "\n"
   ]
  },
  {
   "cell_type": "markdown",
   "metadata": {},
   "source": [
    "# 1.Iterative Schemes <a class=\"anchor\" id=\"first-bullet\"></a> #"
   ]
  },
  {
   "cell_type": "markdown",
   "metadata": {},
   "source": [
    "## Bisection ##"
   ]
  },
  {
   "cell_type": "code",
   "execution_count": 3,
   "metadata": {},
   "outputs": [],
   "source": [
    "#The Code\n",
    "\n",
    "def bisectToZero(f, a, b, epsilon):\n",
    "    \"\"\"\n",
    "    INPUT: A function, point a on func f, point b on func f, epsilon accuracy\n",
    "    OUTPUT: k num cuts, the value x for f(x)=0, and f(x) (should be about 0)\n",
    "    Functionality: Converges to single zero point by bisection iteration.\n",
    "    Limitation: Only recieves non differential functions in terms of 1 variable. AND relies on IVT (requires pos and neg value)\n",
    "    Additional Note: It finds the LEFTMOST zero only if domain contains two+ zeroes\n",
    "    \"\"\"\n",
    "    k = 0\n",
    "    x = 0\n",
    "    \n",
    "    if(f(a)*f(b) < 0):\n",
    "        x = (a+b)/2\n",
    "        k = k+1\n",
    "        \n",
    "        while(abs(f(x)) > epsilon):\n",
    "            if(f(a)*f(x) < 0):\n",
    "                b = x\n",
    "                x = (a+x)/2\n",
    "                k = k+1\n",
    "                #print(x) #if you want to show convergence\n",
    "            elif(f(x)*f(b) < 0):\n",
    "                a = x\n",
    "                x = (x+b)/2\n",
    "                k = k+1\n",
    "                \n",
    "            else:\n",
    "                print(\"hmmMMMMMM!\")\n",
    "                break\n",
    "            \n",
    "    print(\"k number of cuts: %.0f , Value x: %f , Approximate f(x): %.10e\"%(k,x,abs(f(x))))\n"
   ]
  },
  {
   "cell_type": "code",
   "execution_count": 4,
   "metadata": {},
   "outputs": [
    {
     "name": "stdout",
     "output_type": "stream",
     "text": [
      "k number of cuts: 0 , Value x: 0.000000 , Approximate f(x): 3.0000000000e+00\n",
      "k number of cuts: 24 , Value x: -1.000000 , Approximate f(x): 3.5762788642e-07\n",
      "k number of cuts: 25 , Value x: 12.566371 , Approximate f(x): 4.6813376776e-08\n",
      "k number of cuts: 41 , Value x: 1.000000 , Approximate f(x): 4.5519144010e-13\n",
      "k number of cuts: 8 , Value x: 1.414062 , Approximate f(x): 4.2724609375e-04\n"
     ]
    }
   ],
   "source": [
    "#Testing\n",
    "\n",
    "#This demonstrates the code's reliance on IVT:\n",
    "bisectToZero(polyFunc1,-1,3.1,0.000000000001)\n",
    "\n",
    "#This demonstrates the code finding the LEFTMOST Zero first and only:\n",
    "bisectToZero(polyFunc2, -2, 3, 0.000001)\n",
    "\n",
    "#Not just polynomial zeroes (Can also use sinFunction, for example):\n",
    "bisectToZero(sinFunction, -np.pi, (9*np.pi/2), 0.0000001)\n",
    "\n",
    "#Some normal bisections\n",
    "bisectToZero(polyFunc1,-1.99,2.99,0.000000000001)\n",
    "bisectToZero(polyFunc3,1,3,0.01)"
   ]
  },
  {
   "cell_type": "markdown",
   "metadata": {},
   "source": [
    "## Chord ##"
   ]
  },
  {
   "cell_type": "code",
   "execution_count": 5,
   "metadata": {},
   "outputs": [],
   "source": [
    "def chordOptimize(f, x0, a, b, epsilon):\n",
    "    \"\"\"\n",
    "    Input: A function, an initial guess, interval [a,b], and how close to zero you wish to be.\n",
    "    Output: Returns list of iterations approaching a root a for f(a)=0. \n",
    "    Functionality: Constructs array carrying out Chord method.\n",
    "    \"\"\"\n",
    "    iterativeList = []\n",
    "    iterativeList.append(x0)\n",
    "    \n",
    "    xk = x0\n",
    "    staticChord = ((b-a)/(f(b)-f(a))) #I call this here so it doesn't do the same calculation each time\n",
    "    \n",
    "    while (abs(f(xk)) > epsilon):\n",
    "        \n",
    "        #Carrying out secant by last 2 values in the list. Here we access that last 2 values\n",
    "        xk = iterativeList[-1]\n",
    "        \n",
    "        #The Chord Formula. \n",
    "        nextGuess = xk - f(xk)*staticChord\n",
    "        \n",
    "        xk = nextGuess\n",
    "        iterativeList.append(nextGuess)\n",
    "    \n",
    "    return(iterativeList)\n",
    "\n"
   ]
  },
  {
   "cell_type": "code",
   "execution_count": 6,
   "metadata": {},
   "outputs": [
    {
     "name": "stdout",
     "output_type": "stream",
     "text": [
      "Secant for f(x)=((x-1)*(x+1)*(x-2))\n",
      "[2.9, 1.2327500000000002, 1.3324296933945317, 1.4618330049413615, 1.6148010177069199, 1.7696107867646227, 1.8923807252972908, 1.96182488217918, 1.9890127894520921, 1.9971328101581052, 1.9992749876545692, 1.9998182213660156, 1.9999545222995339, 1.9999886285066857, 1.999997156997361, 1.9999992892412575, 1.9999998223098092, 1.9999999555774208, 1.9999999888943532, 1.9999999972235882, 1.999999999305897, 1.9999999998264741, 1.9999999999566185, 1.9999999999891547, 1.9999999999972886, 1.999999999999322, 1.9999999999998306, 1.9999999999999576, 1.9999999999999893, 1.9999999999999973, 1.9999999999999993, 1.9999999999999998, 2.0]\n",
      "----------------------------------------------------------------------------\n",
      "Secant for f(x)=(x**2 - 2)\n",
      "[2.0, 1.5, 1.4375, 1.4208984375, 1.4161603450775146, 1.4147828143349983, 1.4143802114005837, 1.4142623658001936, 1.4142278559705035, 1.4142177488197718, 1.414214788550556, 1.4142139215117826, 1.4142136675623491, 1.4142135931823114, 1.4142135713969055, 1.4142135650161078, 1.4142135631472157, 1.4142135625998298, 1.414213562439504, 1.4142135623925458]\n"
     ]
    }
   ],
   "source": [
    "#Testing\n",
    "\n",
    "print(\"Secant for f(x)=((x-1)*(x+1)*(x-2))\")\n",
    "print(chordOptimize(polyFunc2, 2.9, 1, 3, 0.0000000000000001))\n",
    "print(\"----------------------------------------------------------------------------\")\n",
    "print(\"Secant for f(x)=(x**2 - 2)\")\n",
    "print(chordOptimize(polyFunc3, 2.0, 1, 3, 0.0000000001))\n",
    "\n",
    "#We can access the last value as our current final converged root a for f(a) = 0 in many ways if we wish."
   ]
  },
  {
   "cell_type": "markdown",
   "metadata": {},
   "source": [
    "## Secant ##"
   ]
  },
  {
   "cell_type": "code",
   "execution_count": 7,
   "metadata": {},
   "outputs": [],
   "source": [
    "#The Code\n",
    "\n",
    "def secantOptimize(f, x0, a, b, epsilon):\n",
    "    \"\"\"\n",
    "    Input: A function, an initial guess, intrval [a,b], and how close to zero you wish to be.\n",
    "    Output: Returns list of iterations approaching a root a for f(a)=0. \n",
    "    Functionality: Constructs array carrying out secant method. Don't need interval if another method other than Chord is chosen.\n",
    "    \"\"\"\n",
    "    iterativeList = []\n",
    "    \n",
    "    iterativeList.append(x0)\n",
    "    \n",
    "    #The below performs one Chord on x0 to get x1. I could use another but chose arbitrarily.\n",
    "    xk = x0 - ( (b-a)/(f(b)-f(a)) )\n",
    "    iterativeList.append(xk)\n",
    "    \n",
    "\n",
    "    while ( abs(f(xk)) > epsilon):\n",
    "        \n",
    "        #Carrying out secant by last 2 values in the list. Here we access that last 2 values\n",
    "        xk0 = iterativeList[-2]\n",
    "        xk1 = iterativeList[-1]\n",
    "        \n",
    "        #The secant formula:\n",
    "        nextGuess = xk0 - ((xk0-xk1) / (f(xk0)-f(xk1)))*f(xk0)\n",
    "        \n",
    "        xk = nextGuess\n",
    "        iterativeList.append(nextGuess)\n",
    "    \n",
    "    return(iterativeList)\n",
    "    "
   ]
  },
  {
   "cell_type": "code",
   "execution_count": 8,
   "metadata": {},
   "outputs": [
    {
     "name": "stdout",
     "output_type": "stream",
     "text": [
      "Secant for f(x)=((x-1)*(x+1)*(x-2))\n",
      "[6.0, 5.75, 4.229249011857707, 3.536094928221902, 2.9228283568357423, 2.524257106566651, 2.253428014641911, 2.0964304462924255, 2.0236364764503874, 2.002688912351068, 2.00008239036833, 2.0000002945030158, 2.0000000000323492, 2.0]\n",
      "----------------------------------------------------------------------------\n",
      "Secant for f(x)=(x**2 - 2)\n",
      "[6.0, 5.75, 3.1063829787234045, 2.242642642642643, 1.676287901229849, 1.4696138816874593, 1.418828773863678, 1.4143020821121974, 1.4142137065730414, 1.4142135623776078, 1.414213562373095]\n"
     ]
    }
   ],
   "source": [
    "#Testing\n",
    "\n",
    "print(\"Secant for f(x)=((x-1)*(x+1)*(x-2))\")\n",
    "print(secantOptimize(polyFunc2, 6.0, 1, 3, 0.000000000000001))\n",
    "print(\"----------------------------------------------------------------------------\")\n",
    "print(\"Secant for f(x)=(x**2 - 2)\")\n",
    "print(secantOptimize(polyFunc3, 6.0, 1, 3, 0.000000000000001))"
   ]
  },
  {
   "cell_type": "markdown",
   "metadata": {},
   "source": [
    "## Newton ##"
   ]
  },
  {
   "cell_type": "code",
   "execution_count": 9,
   "metadata": {},
   "outputs": [],
   "source": [
    "#The Code\n",
    "\n",
    "def newtonOptimize(f, x0, epsilon):\n",
    "    \"\"\"\n",
    "    Input: A function, an initial guess, and how close to zero you wish to be.\n",
    "    Output: Returns an array of iterations approaching root.\n",
    "    Functionality: Demonstrates convergence of newton method.\n",
    "    \"\"\"\n",
    "    iterativeList = []\n",
    "    \n",
    "    #Storing my initial value in the list\n",
    "    xk = x0\n",
    "    iterativeList.append(xk)\n",
    "    \n",
    "    while ( abs(f(xk)) > epsilon):\n",
    "        \n",
    "        #These are the variables that make the Newton Method. Works off last element of the list\n",
    "        xk = iterativeList[-1]\n",
    "        func = f(xk)\n",
    "        deriv = derivative(f,xk)\n",
    "        \n",
    "        nextGuess = xk - (func/deriv)\n",
    "        iterativeList.append(nextGuess)\n",
    "    \n",
    "    \n",
    "    return(iterativeList)\n",
    "\n"
   ]
  },
  {
   "cell_type": "code",
   "execution_count": 10,
   "metadata": {},
   "outputs": [
    {
     "name": "stdout",
     "output_type": "stream",
     "text": [
      "Secant for f(x)=((x-1)*(x+1)*(x-2))\n",
      "[6.0, 4.333333333333333, 3.269705603038936, 2.621889504276323, 2.261451403583303, 2.090622768425154, 2.0263097258065086, 2.0069114729266615, 2.0017515277409257, 2.000439412175104, 2.0001099495270136, 2.000027493425289, 2.000006873734252, 2.0000017184571868, 2.000000429615773, 2.0000001074040354, 2.0000000268510147, 2.000000006712754, 2.0000000016781887, 2.000000000419547, 2.0000000001048868, 2.0000000000262217, 2.0000000000065556, 2.000000000001639, 2.00000000000041, 2.0000000000001026, 2.0000000000000258, 2.0000000000000067, 2.0000000000000018, 2.0000000000000004, 2.0, 2.0]\n",
      "----------------------------------------------------------------------------\n",
      "Secant for f(x)=(x**2 - 2)\n",
      "[6.0, 3.1666666666666665, 1.8991228070175437, 1.4761202949637373, 1.4155117098049557, 1.4142141576301823, 1.4142135623732204, 1.4142135623730951, 1.414213562373095]\n"
     ]
    }
   ],
   "source": [
    "#Testing\n",
    "\n",
    "print(\"Secant for f(x)=((x-1)*(x+1)*(x-2))\")\n",
    "print(newtonOptimize(polyFunc2, 6.0, 0.000000000000001))\n",
    "print(\"----------------------------------------------------------------------------\")\n",
    "print(\"Secant for f(x)=(x**2 - 2)\")\n",
    "print(newtonOptimize(polyFunc3, 6.0, 0.000000000000001))"
   ]
  },
  {
   "cell_type": "markdown",
   "metadata": {},
   "source": [
    "## Fixed Point Iteration ##"
   ]
  },
  {
   "cell_type": "code",
   "execution_count": 11,
   "metadata": {},
   "outputs": [],
   "source": [
    "#The Code\n",
    "\n",
    "def phi2(x):\n",
    "    #From the function f(x) = 0 =  -x**2 + x + 1\n",
    "    return 1 + 1/x\n",
    "\n",
    "def fixedPointIteration(f, x_0, steps):\n",
    "    \"\"\"\n",
    "    Input: A fixed point function, an initial guess, and the number of iterations you would like to take\n",
    "    Output: Returns out k steps and array of values for each iteration in n steps\n",
    "    Functionality: Takes n steps of fixed point iteration.\n",
    "    Limitation: Does NOT test or garuntee convergence, simply carries out fixed point iteration task n times.\n",
    "    \"\"\"\n",
    "    \n",
    "    iterativeList = []\n",
    "    x = x_0\n",
    "    \n",
    "    for i in range(0,steps):\n",
    "        phi_x = f(x)\n",
    "        x = phi_x\n",
    "        iterativeList.append(x)\n",
    "    \n",
    "    \n",
    "    return(iterativeList)\n",
    "    \n",
    "    "
   ]
  },
  {
   "cell_type": "code",
   "execution_count": 12,
   "metadata": {},
   "outputs": [
    {
     "name": "stdout",
     "output_type": "stream",
     "text": [
      "[1.5, 1.6666666666666665, 1.6, 1.625, 1.6153846153846154, 1.619047619047619, 1.6176470588235294, 1.6181818181818182, 1.6179775280898876, 1.6180555555555556, 1.6180257510729614, 1.6180371352785146, 1.6180327868852458, 1.618034447821682, 1.618033813400125, 1.6180340557275543, 1.6180339631667064, 1.6180339985218035, 1.618033985017358, 1.6180339901755971]\n"
     ]
    }
   ],
   "source": [
    "#Testing\n",
    "print(fixedPointIteration(phi2, 2, 20))\n"
   ]
  },
  {
   "cell_type": "markdown",
   "metadata": {},
   "source": [
    "# 2. Lagrange Interpolation <a class=\"anchor\" id=\"second-bullet\"></a> #"
   ]
  },
  {
   "cell_type": "code",
   "execution_count": 13,
   "metadata": {},
   "outputs": [],
   "source": [
    "#More functions\n",
    "\n",
    "def quad(x):\n",
    "    return 4*(x-(1/2))**2\n",
    "\n",
    "def cosSin(x,y):\n",
    "    return (np.sin(2*np.pi*x))*(np.cos(2*np.pi*y))\n"
   ]
  },
  {
   "cell_type": "code",
   "execution_count": 14,
   "metadata": {},
   "outputs": [
    {
     "data": {
      "text/plain": [
       "\"\\nclass LagrangeClass:\\n\\n    def __init__(self, xVals, yVals):\\n        #Constructors for n length, x array, and y array\\n        self.len = len(xVals)\\n        self.xVals = np.array(xVals)\\n        self.yVals = np.array(yVals)\\n\\n\\n    #Self paramater for all python classes. x are xPoints. j is tested index.\\n    def interpolate(self, x, j):\\n        \\n        #Python list comprehension. b = x-xi/(xj-xi) for i in LENGTH OF X\\n        \\n        #Double for loop...O(n**2), Yikez\\n        for j in range(self.len):\\n            z = [( (x - self.xVals[i])/(self.xVals[j] - self.xVals[i]) ) for i in range(self.len) if i != j]\\n            product = np.prod(b, axis=0) * self.yVals[j]\\n            z = [product] #I don't even know... LOL. \\n            \\n            #print(z)\\n            #interpolation = ... the points of z? Their sum? Z seems to change size\\n        \\n        return interpolation\\n\""
      ]
     },
     "execution_count": 14,
     "metadata": {},
     "output_type": "execute_result"
    }
   ],
   "source": [
    "#Some iterative Design: (Can skip)\n",
    "\n",
    "#I had some issues understanding 2 things. Referencing, and how to construct a function with general x, but we don't know how many terms we will need x...\n",
    "#This was me struggling to get just the denominators working (at first):\n",
    "\n",
    "\"\"\"\n",
    "def oneDLagrange(f, a, b, n):\n",
    "    \n",
    "    points = np.linspace(a, b, n)\n",
    "    fValues = [f(x) for x in points]\n",
    "    print(points)\n",
    "    interpolateList = []\n",
    "    \n",
    "    denom = 1\n",
    "    denomList = []\n",
    "    \n",
    "    for i in range(0, len(points)):\n",
    "        for j in range(0, len(points)):\n",
    "            if (i != j):\n",
    "                print(i,j)\n",
    "                tempDenom = points[j]-points[i]\n",
    "                denom = denom*tempDenom\n",
    "                #denomList[i] = denom\n",
    "        #interpolateList.append(testVal)\n",
    "\n",
    "    ftestVals = [f(x) for x in interpolateList]\n",
    "    #ugh okay I need a better way to REFERENCE these in ONE step.\n",
    "\"\"\"\n",
    "\n",
    "#So the function wasn't even close to working, so I attempt to implement a python Class (as I recalled from DSC 201):\n",
    "\n",
    "\"\"\"\n",
    "class LagrangeClass:\n",
    "\n",
    "    def __init__(self, xVals, yVals):\n",
    "        #Constructors for n length, x array, and y array\n",
    "        self.len = len(xVals)\n",
    "        self.xVals = np.array(xVals)\n",
    "        self.yVals = np.array(yVals)\n",
    "\n",
    "\n",
    "    #Self paramater for all python classes. x are xPoints. j is tested index.\n",
    "    def interpolate(self, x, j):\n",
    "        \n",
    "        #Python list comprehension. b = x-xi/(xj-xi) for i in LENGTH OF X\n",
    "        \n",
    "        #Double for loop...O(n**2), Yikez\n",
    "        for j in range(self.len):\n",
    "            z = [( (x - self.xVals[i])/(self.xVals[j] - self.xVals[i]) ) for i in range(self.len) if i != j]\n",
    "            product = np.prod(b, axis=0) * self.yVals[j]\n",
    "            z = [product] #I don't even know... LOL. \n",
    "            \n",
    "            #print(z)\n",
    "            #interpolation = ... the points of z? Their sum? Z seems to change size\n",
    "        \n",
    "        return interpolation\n",
    "\"\"\"\n",
    "\n",
    "# A really cool result of this is that a value input of x OR an array input for X works, so I solved my 'referencing' problem.\n",
    "# However, this interpolation did not work for obvious reasons, and so I needed to better simplify (and understand) the idea of summing to j for many x-xi/xj-xi"
   ]
  },
  {
   "cell_type": "code",
   "execution_count": 14,
   "metadata": {},
   "outputs": [],
   "source": [
    "#The Code\n",
    "\n",
    "class LagrangeClass:\n",
    "\n",
    "    def __init__(self, xVals, yVals):\n",
    "        #Constructors for n length, x array, and y array\n",
    "        self.len = len(xVals)\n",
    "        self.xVals = np.array(xVals)\n",
    "        self.yVals = np.array(yVals)\n",
    "\n",
    "\n",
    "    #Self paramater for all python classes. x are xPoints. j is tested index.\n",
    "    def constructPoints(self, x, j):\n",
    "        \n",
    "        #Python list comprehension. b = x-xi/(xj-xi) for i in LENGTH OF X\n",
    "        # CHARACTERISTIC POLYNOMIAL\n",
    "        b = [( (x - self.xVals[i])/(self.xVals[j] - self.xVals[i]) ) for i in range(self.len) if i != j]\n",
    "        \n",
    "        #Our Characateristic * y values\n",
    "        product = np.prod(b, axis=0) * self.yVals[j]\n",
    "        return product\n",
    "\n",
    "    def interpolate(self, x):\n",
    "        \n",
    "        #This creates a product for every j.\n",
    "        b = [self.constructPoints(x, j) for j in range(self.len)]\n",
    "\n",
    "        #Stacking the constructPoints(x,j) into one array.\n",
    "        lagrange = np.sum(b, axis=0)\n",
    "        return lagrange\n"
   ]
  },
  {
   "cell_type": "code",
   "execution_count": 16,
   "metadata": {},
   "outputs": [
    {
     "data": {
      "text/plain": [
       "Text(0, 0.5, 'Y')"
      ]
     },
     "execution_count": 16,
     "metadata": {},
     "output_type": "execute_result"
    },
    {
     "data": {
      "image/png": "[encoded data removed]",
      "text/plain": [
       "<Figure size 432x288 with 1 Axes>"
      ]
     },
     "metadata": {
      "needs_background": "light"
     },
     "output_type": "display_data"
    }
   ],
   "source": [
    "#Testing the Code\n",
    "\n",
    "#X and Y are based on our original function.\n",
    "X = np.linspace(0, 1, 50)\n",
    "Y = [quad(x) for x in X]\n",
    "\n",
    "#Creating a Lagrange object from our given x and y points from function.\n",
    "lp = LagrangeClass(X, Y)\n",
    "\n",
    "\n",
    "plt.plot(X, Y, \"bo-\", label = 'Original Function')\n",
    "\n",
    "#New x are the points we wish to interpolate for the function.\n",
    "#Interpolating 3 points\n",
    "newX = np.linspace(0, 1, 3)\n",
    "plt.plot(newX, lp.interpolate(newX), \"r--\" , label = '3 points')\n",
    "\n",
    "#Interpolating 5 points\n",
    "newX = np.linspace(0, 1, 5)\n",
    "plt.plot(newX, lp.interpolate(newX), \"g--\", label = '5 points', linewidth=2)\n",
    "\n",
    "#Interpolating 10 points\n",
    "newX = np.linspace(0, 1, 10)\n",
    "plt.plot(newX, lp.interpolate(newX), \"m--\", label = '25 points', linewidth=3)\n",
    "\n",
    "plt.title(\"Demonstrating the Interpolation\")\n",
    "plt.legend(loc='best')\n",
    "plt.xlabel(\"X\")\n",
    "plt.ylabel(\"Y\")\n",
    "\n",
    "#You can also call lp.constructPoints(X, 0) to only construct 1 point for a given j.\n",
    "#print(lp.constructPoints(X,1))\n",
    "\n",
    "\n",
    "#pandas has good interpolations, so I just use those rather than a direct Lagrange anyhow."
   ]
  },
  {
   "cell_type": "markdown",
   "metadata": {},
   "source": [
    "# 3. Numerical Integrations <a class=\"anchor\" id=\"third-bullet\"></a> #"
   ]
  },
  {
   "cell_type": "code",
   "execution_count": 17,
   "metadata": {},
   "outputs": [],
   "source": [
    "#Function to integrate\n",
    "\n",
    "# e^x\n",
    "def eFunction(x):\n",
    "    return np.exp(x)\n",
    "\n",
    "#The 'Exact' integral from 0 to 1 of e^x :\n",
    "exactIntegral = np.exp(1) - np.exp(0)"
   ]
  },
  {
   "cell_type": "markdown",
   "metadata": {},
   "source": [
    "## Midpoint ##"
   ]
  },
  {
   "cell_type": "code",
   "execution_count": 18,
   "metadata": {},
   "outputs": [],
   "source": [
    "#The Code:\n",
    "\n",
    "def numMidIntegration(f, n, a, b):\n",
    "    \"\"\"\n",
    "    Input: function f, and number of subintervals n, starting point a, ending point b\n",
    "    Output: The Midpoint integration of f with n subintervals.\n",
    "    Limitation: Not the most numerically efficient... but it gets the job done! \n",
    "    \"\"\"\n",
    "    \n",
    "    #Generating x points based on our a to b integral. n SUBINTERVALS and n+1 POINTS\n",
    "    pointsValues = np.linspace(a , b , n+1)\n",
    "    deltax = (b-a)/n\n",
    "    \n",
    "    #Calculating the integrals for each interval and stores into list using (list comprehension format)\n",
    "    integralsubIntervals = [deltax*f((pointsValues[a]+pointsValues[a+1])/2) for a in range(0,n)]\n",
    "    \n",
    "    #Summing the integrations\n",
    "    summedIntegral = sum(integralsubIntervals)\n",
    "    \n",
    "    return(summedIntegral)\n"
   ]
  },
  {
   "cell_type": "code",
   "execution_count": 19,
   "metadata": {},
   "outputs": [
    {
     "name": "stdout",
     "output_type": "stream",
     "text": [
      "The Numerical integral is: 1.700512716650208\n",
      "The 'Exact' integral is: 1.718281828459045\n",
      "Error is: 0.017769111808837\n"
     ]
    }
   ],
   "source": [
    "#Testing\n",
    "\n",
    "approximateIntegral = numMidIntegration(eFunction, 2 , 0 , 1)\n",
    "print(\"The Numerical integral is:\",approximateIntegral)\n",
    "print(\"The 'Exact' integral is:\", exactIntegral)\n",
    "\n",
    "error = abs(exactIntegral - approximateIntegral)\n",
    "\n",
    "print(\"Error is:\", error)"
   ]
  },
  {
   "cell_type": "code",
   "execution_count": 20,
   "metadata": {},
   "outputs": [
    {
     "data": {
      "text/plain": [
       "Text(0, 0.5, 'Error')"
      ]
     },
     "execution_count": 20,
     "metadata": {},
     "output_type": "execute_result"
    },
    {
     "data": {
      "image/png": "[encoded data removed]",
      "text/plain": [
       "<Figure size 432x288 with 1 Axes>"
      ]
     },
     "metadata": {
      "needs_background": "light"
     },
     "output_type": "display_data"
    }
   ],
   "source": [
    "intervalList = [5, 10, 20, 40, 80, 160, 320, 640, 1280]\n",
    "errorListMid = []\n",
    "\n",
    "#List comprehension constructs an error list\n",
    "errorListMid = [abs(exactIntegral- numMidIntegration(eFunction, i, 0,1)) for i in intervalList]\n",
    "\n",
    "plt.loglog(intervalList, errorListMid)\n",
    "plt.title(\"Error Midpoint\")\n",
    "plt.xlabel(\"Doubling points\")\n",
    "plt.ylabel(\"Error\")\n"
   ]
  },
  {
   "cell_type": "markdown",
   "metadata": {},
   "source": [
    "## Trapezoidal ##"
   ]
  },
  {
   "cell_type": "code",
   "execution_count": 21,
   "metadata": {},
   "outputs": [],
   "source": [
    "#The Code:\n",
    "\n",
    "def numTrapIntegration(f, n, a, b):\n",
    "    \"\"\"\n",
    "    Input: function f, and number of subintervals n, starting point a, starting point b\n",
    "    Output: The Trapezoidal integration of f with n subintervals.\n",
    "    Limitation: Not the most numerically efficient... but it gets the job done! \n",
    "    \"\"\"\n",
    "    \n",
    "    #Generating x points based on our a to b integral. n SUBINTERVALS and n+1 POINTS\n",
    "    pointsValues = np.linspace(a , b , n+1)\n",
    "    deltax = (b-a)/n\n",
    "    \n",
    "    #Calculating the integrals for each interval and stores into list using (list comprehension format)\n",
    "    integralsubIntervals = [(1/2)*deltax*(f(pointsValues[a])+f(pointsValues[a+1])) for a in range(0,n)]\n",
    "    \n",
    "    #Summing the integrations\n",
    "    summedIntegral = sum(integralsubIntervals)\n",
    "    \n",
    "    return(summedIntegral)\n",
    "\n"
   ]
  },
  {
   "cell_type": "code",
   "execution_count": 22,
   "metadata": {},
   "outputs": [
    {
     "name": "stdout",
     "output_type": "stream",
     "text": [
      "The Numerical integral is: 1.7539310924648255\n",
      "The 'Exact' integral is: 1.718281828459045\n",
      "Error is: 0.03564926400578039\n"
     ]
    }
   ],
   "source": [
    "#Testing\n",
    "\n",
    "approximateIntegral = numTrapIntegration(eFunction, 2 , 0 , 1)\n",
    "print(\"The Numerical integral is:\",approximateIntegral)\n",
    "print(\"The 'Exact' integral is:\", exactIntegral)\n",
    "\n",
    "error = abs(exactIntegral - approximateIntegral)\n",
    "\n",
    "print(\"Error is:\", error)"
   ]
  },
  {
   "cell_type": "code",
   "execution_count": 23,
   "metadata": {},
   "outputs": [
    {
     "data": {
      "text/plain": [
       "Text(0, 0.5, 'Error')"
      ]
     },
     "execution_count": 23,
     "metadata": {},
     "output_type": "execute_result"
    },
    {
     "data": {
      "image/png": "[encoded data removed]",
      "text/plain": [
       "<Figure size 432x288 with 1 Axes>"
      ]
     },
     "metadata": {
      "needs_background": "light"
     },
     "output_type": "display_data"
    }
   ],
   "source": [
    "intervalList = [5, 10, 20, 40, 80, 160, 320, 640, 1280]\n",
    "errorListTrap = []\n",
    "\n",
    "#List comprehension, constructs error list\n",
    "errorListTrap = [abs(exactIntegral- numTrapIntegration(eFunction, i, 0,1)) for i in intervalList]\n",
    "\n",
    "plt.loglog( intervalList, errorListTrap)\n",
    "plt.title(\"Error Trap\")\n",
    "plt.xlabel(\"Doubling points\")\n",
    "plt.ylabel(\"Error\")"
   ]
  },
  {
   "cell_type": "markdown",
   "metadata": {},
   "source": [
    "## Simpson ##"
   ]
  },
  {
   "cell_type": "code",
   "execution_count": 24,
   "metadata": {},
   "outputs": [],
   "source": [
    "#The Code:\n",
    "\n",
    "def numSimpIntegration(f, n, a, b):\n",
    "    \"\"\"\n",
    "    Input: function f, and number of subintervals n, starting point a, starting point b\n",
    "    Output: The Simpsons integration of f with n subintervals.\n",
    "    Limitation: Not the most numerically efficient... but it gets the job done!\n",
    "    \"\"\"\n",
    "    \n",
    "    #Choosing n subintervals means we are left with n+1 points.\n",
    "    #However, each subinterval creates TWO subSUBintervals with weights 1/6,4/6,1/6. So we create 2*n+1 points and 2n subSUBintervals.\n",
    "    #The above is the simplified method, rather than (personally) preferred 1/(# large subintervals)(1/6)*[1424242..1]; each large sub = weight of that interval\n",
    "    \n",
    "    pointsValues = np.linspace(a , b , (2*n+1) )\n",
    "    deltax = (b-a)/(2*n)\n",
    "    \n",
    "    yValues = [f(pointsValues[a]) for a in range(0,2*n+1)]\n",
    "                 \n",
    "    summedIntegral = (deltax/3) * (yValues[0] + np.sum(4*yValues[1:-1:2]) + np.sum(2*yValues[2:-1:2]) + yValues[-1])\n",
    "    \n",
    "    return(summedIntegral)\n"
   ]
  },
  {
   "cell_type": "code",
   "execution_count": 25,
   "metadata": {},
   "outputs": [
    {
     "name": "stdout",
     "output_type": "stream",
     "text": [
      "The Numerical integral is: 1.7182891699208318\n",
      "The 'Exact' integral is: 1.718281828459045\n",
      "Error is: 7.341461786714021e-06\n"
     ]
    }
   ],
   "source": [
    "#Testing - 3 subIntervals\n",
    "\n",
    "approximateIntegral = numSimpIntegration(eFunction, 3 , 0 , 1)\n",
    "print(\"The Numerical integral is:\",approximateIntegral)\n",
    "print(\"The 'Exact' integral is:\", exactIntegral)\n",
    "\n",
    "error = abs(exactIntegral - approximateIntegral)\n",
    "\n",
    "print(\"Error is:\", error)"
   ]
  },
  {
   "cell_type": "code",
   "execution_count": 26,
   "metadata": {},
   "outputs": [
    {
     "name": "stdout",
     "output_type": "stream",
     "text": [
      "The Numerical integral is: 1.7182827819248236\n",
      "The 'Exact' integral is: 1.718281828459045\n",
      "Error is: 9.53465778552598e-07\n"
     ]
    }
   ],
   "source": [
    "#Testing - 5 subIntervals\n",
    "\n",
    "approximateIntegral = numSimpIntegration(eFunction, 5 , 0 , 1)\n",
    "print(\"The Numerical integral is:\",approximateIntegral)\n",
    "print(\"The 'Exact' integral is:\", exactIntegral)\n",
    "\n",
    "error = abs(exactIntegral - approximateIntegral)\n",
    "\n",
    "print(\"Error is:\", error)"
   ]
  },
  {
   "cell_type": "code",
   "execution_count": 27,
   "metadata": {},
   "outputs": [
    {
     "data": {
      "text/plain": [
       "Text(0, 0.5, 'Error')"
      ]
     },
     "execution_count": 27,
     "metadata": {},
     "output_type": "execute_result"
    },
    {
     "data": {
      "image/png": "[encoded data removed]",
      "text/plain": [
       "<Figure size 432x288 with 1 Axes>"
      ]
     },
     "metadata": {
      "needs_background": "light"
     },
     "output_type": "display_data"
    }
   ],
   "source": [
    "#Graphing Simpson's error for increasing i intervals\n",
    "\n",
    "intervalList = [5, 10, 20, 40, 80, 160, 320, 640, 1280]\n",
    "errorListSimp = []\n",
    "\n",
    "#List comprehension constructs an error list\n",
    "errorListSimp = [abs(exactIntegral- numSimpIntegration(eFunction, i, 0,1)) for i in intervalList]\n",
    "\n",
    "plt.loglog(intervalList, errorListSimp)\n",
    "plt.title(\"Error Simpson's\")\n",
    "plt.xlabel(\"Doubling points\")\n",
    "plt.ylabel(\"Error\")\n"
   ]
  },
  {
   "cell_type": "code",
   "execution_count": 28,
   "metadata": {},
   "outputs": [
    {
     "name": "stdout",
     "output_type": "stream",
     "text": [
      "Midpoint Order: 1.9996844569138494\n",
      "Trap Order: 1.9998196979990706\n",
      "Simpson Order: 3.9987126040809295\n"
     ]
    },
    {
     "data": {
      "image/png": "[encoded data removed]",
      "text/plain": [
       "<Figure size 432x288 with 1 Axes>"
      ]
     },
     "metadata": {
      "needs_background": "light"
     },
     "output_type": "display_data"
    }
   ],
   "source": [
    "#Plotting the three errors on the same plot with loglog.\n",
    "\n",
    "plt.loglog(intervalList, errorListMid, label = 'Midpoint Error')\n",
    "plt.loglog(intervalList, errorListTrap, label = 'Trap Error')\n",
    "plt.loglog(intervalList, errorListSimp, label = \"Simpson's Error\")\n",
    "plt.title(\"Error Of all Three Integrations\")\n",
    "plt.xlabel(\"Doubling points\")\n",
    "plt.ylabel(\"Error\")\n",
    "plt.legend(loc='best')\n",
    "\n",
    "\n",
    "#Demonstrating their order of error by the slope of their loglog transformation\n",
    "slopeMid = abs ((np.log(errorListMid[2]) - np.log(errorListMid[1]) ) / (  np.log(intervalList[1]) - np.log(intervalList[0])))\n",
    "print(\"Midpoint Order:\",slopeMid)\n",
    "\n",
    "slopeTrap = abs ((np.log(errorListTrap[2]) - np.log(errorListTrap[1]) ) / (  np.log(intervalList[1]) - np.log(intervalList[0])))\n",
    "print(\"Trap Order:\",slopeTrap)\n",
    "\n",
    "slopeSimp = abs (( np.log(errorListSimp[1]) - np.log(errorListSimp[0])) / ( np.log(intervalList[1]) - np.log(intervalList[0])))\n",
    "print(\"Simpson Order:\",slopeSimp)\n"
   ]
  },
  {
   "cell_type": "code",
   "execution_count": 29,
   "metadata": {},
   "outputs": [
    {
     "data": {
      "text/html": [
       "<div>\n",
       "<style scoped>\n",
       "    .dataframe tbody tr th:only-of-type {\n",
       "        vertical-align: middle;\n",
       "    }\n",
       "\n",
       "    .dataframe tbody tr th {\n",
       "        vertical-align: top;\n",
       "    }\n",
       "\n",
       "    .dataframe thead th {\n",
       "        text-align: right;\n",
       "    }\n",
       "</style>\n",
       "<table border=\"1\" class=\"dataframe\">\n",
       "  <thead>\n",
       "    <tr style=\"text-align: right;\">\n",
       "      <th></th>\n",
       "      <th>Mid Error</th>\n",
       "      <th>Trap Error</th>\n",
       "      <th>Simpson Error</th>\n",
       "    </tr>\n",
       "  </thead>\n",
       "  <tbody>\n",
       "    <tr>\n",
       "      <th>5</th>\n",
       "      <td>2.860465e-03</td>\n",
       "      <td>5.723791e-03</td>\n",
       "      <td>9.534658e-07</td>\n",
       "    </tr>\n",
       "    <tr>\n",
       "      <th>10</th>\n",
       "      <td>7.157420e-04</td>\n",
       "      <td>1.431663e-03</td>\n",
       "      <td>5.964481e-08</td>\n",
       "    </tr>\n",
       "    <tr>\n",
       "      <th>20</th>\n",
       "      <td>1.789746e-04</td>\n",
       "      <td>3.579605e-04</td>\n",
       "      <td>3.728633e-09</td>\n",
       "    </tr>\n",
       "    <tr>\n",
       "      <th>40</th>\n",
       "      <td>4.474611e-05</td>\n",
       "      <td>8.949291e-05</td>\n",
       "      <td>2.330529e-10</td>\n",
       "    </tr>\n",
       "    <tr>\n",
       "      <th>80</th>\n",
       "      <td>1.118668e-05</td>\n",
       "      <td>2.237340e-05</td>\n",
       "      <td>1.456613e-11</td>\n",
       "    </tr>\n",
       "    <tr>\n",
       "      <th>160</th>\n",
       "      <td>2.796679e-06</td>\n",
       "      <td>5.593362e-06</td>\n",
       "      <td>9.106049e-13</td>\n",
       "    </tr>\n",
       "    <tr>\n",
       "      <th>320</th>\n",
       "      <td>6.991705e-07</td>\n",
       "      <td>1.398341e-06</td>\n",
       "      <td>5.706546e-14</td>\n",
       "    </tr>\n",
       "    <tr>\n",
       "      <th>640</th>\n",
       "      <td>1.747927e-07</td>\n",
       "      <td>3.495853e-07</td>\n",
       "      <td>3.774758e-15</td>\n",
       "    </tr>\n",
       "    <tr>\n",
       "      <th>1280</th>\n",
       "      <td>4.369817e-08</td>\n",
       "      <td>8.739633e-08</td>\n",
       "      <td>4.440892e-16</td>\n",
       "    </tr>\n",
       "  </tbody>\n",
       "</table>\n",
       "</div>"
      ],
      "text/plain": [
       "         Mid Error    Trap Error  Simpson Error\n",
       "5     2.860465e-03  5.723791e-03   9.534658e-07\n",
       "10    7.157420e-04  1.431663e-03   5.964481e-08\n",
       "20    1.789746e-04  3.579605e-04   3.728633e-09\n",
       "40    4.474611e-05  8.949291e-05   2.330529e-10\n",
       "80    1.118668e-05  2.237340e-05   1.456613e-11\n",
       "160   2.796679e-06  5.593362e-06   9.106049e-13\n",
       "320   6.991705e-07  1.398341e-06   5.706546e-14\n",
       "640   1.747927e-07  3.495853e-07   3.774758e-15\n",
       "1280  4.369817e-08  8.739633e-08   4.440892e-16"
      ]
     },
     "execution_count": 29,
     "metadata": {},
     "output_type": "execute_result"
    }
   ],
   "source": [
    "#tables are silly so I construct a Dataframe with pandas:\n",
    "\n",
    "import pandas as pd\n",
    "\n",
    "df = pd.DataFrame({\n",
    "    'Mid Error': errorListMid,\n",
    "    'Trap Error' : errorListTrap,\n",
    "    'Simpson Error' : errorListSimp,\n",
    "})\n",
    "\n",
    "df = df.set_index([intervalList])\n",
    "df"
   ]
  },
  {
   "cell_type": "code",
   "execution_count": null,
   "metadata": {},
   "outputs": [],
   "source": []
  },
  {
   "cell_type": "markdown",
   "metadata": {},
   "source": [
    "# Numerical Derivatives <a class=\"anchor\" id=\"fourth-bullet\"></a> #"
   ]
  },
  {
   "cell_type": "markdown",
   "metadata": {},
   "source": [
    "There are several forms of Numerical Integration, such as Forward Euler, Backwards Euler, Crank Nicholson, Heun's Method, multistep methods, and so on. I chose to do one explicit and one implicit. \n",
    "</br>\n",
    "It is far more efficient (no arrays) and sometimes cleaner to use sympy or scipy to solve partial differential equations. However, using these defeats the purpose of demonstrating the numerical technique.\n",
    "</br>\n",
    "The [numfy module](https://www.numfys.net/modules/) is another more efficient (but far less intuitive) guideline to complete this task."
   ]
  },
  {
   "cell_type": "code",
   "execution_count": 30,
   "metadata": {},
   "outputs": [],
   "source": [
    "#An Initial Value Problem to numerically derive\n",
    "\n",
    "def ODE01(t, y_t):\n",
    "    dydt = 3*y_t + t\n",
    "    return dydt\n",
    "\n",
    "def ODE02(t, y_t):\n",
    "    dydt = 3*y_t\n",
    "    return dydt\n",
    "\n",
    "#Initial values: y(0) = 1\n",
    "#I take this as a seperate paramater in each functions\n"
   ]
  },
  {
   "cell_type": "markdown",
   "metadata": {},
   "source": [
    "## Forward Euler ##"
   ]
  },
  {
   "cell_type": "code",
   "execution_count": 31,
   "metadata": {},
   "outputs": [],
   "source": [
    "#The Code (Array version)\n",
    "\n",
    "def forwardEulerArray(dydt, t0, y0, tn, n):\n",
    "    \"\"\"\n",
    "    INPUT: derivative dydt = f(tn, yn) = ... , t0 an initial t point, y0 an initial y value., tn a final t point to calculate, n steps. If you want only the initial step, then n=1.\n",
    "    OUTPUT: An array of iterations for the numerical derivation.\n",
    "    Functionality: Solves a simple ODE IVP for f(tn).\n",
    "    Limitations: Isn't as efficient scipy or sympy, but the approach is intuitive.\n",
    "    \"\"\"\n",
    "    \n",
    "    h = (tn- t0)/(n)\n",
    "    t = np.linspace(t0, tn, n)\n",
    "    u = [y0]\n",
    "    \n",
    "    \n",
    "    for n in range(0, len(t)):\n",
    "        nextU = u[n] + h* dydt(t[n], u[n])\n",
    "        \n",
    "        u.append(nextU)\n",
    "    \n",
    "    return u\n"
   ]
  },
  {
   "cell_type": "code",
   "execution_count": 32,
   "metadata": {},
   "outputs": [],
   "source": [
    "#The Code (Last Derivative version)\n",
    "\n",
    "\n",
    "def forwardEuler(dydt, t0, y0, tn, n):\n",
    "    \"\"\"\n",
    "    INPUT: derivative dydt = f(tn, yn) = ... , t0 an initial t point, y0 an initial y value., tn a final t point to calculate, n steps. If you want only the initial step, then n=1.\n",
    "    OUTPUT: A numerical derivative on the given interval.\n",
    "    Functionality: Solves a simple ODE IVP for f(tn).\n",
    "    Limitations: Isn't as efficient scipy or sympy, but the approach is intuitive. \n",
    "    \"\"\"\n",
    "    \n",
    "    # h creates a deltat interval, t are the set of t values from t0 to tN ( or tn; final t), u approx recognizes we are going from y to u, since we have truncation error and no longer work with y\n",
    "    h = (tn- t0)/(n)\n",
    "    t = np.linspace(t0, tn, n)\n",
    "    uApprox = y0\n",
    "    \n",
    "    for n in range(0, n):\n",
    "        uApprox = uApprox + h* dydt(t[n], uApprox)\n",
    "        \n",
    "    return uApprox\n",
    "\n"
   ]
  },
  {
   "cell_type": "code",
   "execution_count": 33,
   "metadata": {},
   "outputs": [
    {
     "name": "stdout",
     "output_type": "stream",
     "text": [
      "403.4215318688789\n",
      "403.4215318688789\n"
     ]
    }
   ],
   "source": [
    "#Testing\n",
    "\n",
    "FEList = forwardEulerArray(ODE02, 0, 1, 2, 1000000)\n",
    "print(FEList[-1])\n",
    "\n",
    "approx = forwardEuler(ODE02, 0, 1, 2, 1000000)\n",
    "print(approx)\n"
   ]
  },
  {
   "cell_type": "markdown",
   "metadata": {},
   "source": [
    "## Backwards Euler ##"
   ]
  },
  {
   "cell_type": "code",
   "execution_count": 34,
   "metadata": {},
   "outputs": [],
   "source": [
    "# I followed the Numfy module closely to complete this task (thus, please mark that this this is not directly my code)\n",
    "#The essential idea is to derive an implicit formula for the given partial differential function with the backards Euler.\n",
    "#We can reearange the formula to \n",
    "\n",
    "\n",
    "def func(x_new, x_old, t_new, dt):\n",
    "    \"\"\" The function f(x) we want the root of.\"\"\"\n",
    "    return x_new - x_old - dt*(np.cos(x_new) + np.sin(t_new))\n",
    "\n",
    "\n",
    "#This is the implicit formula we have for the differential function: cos(y(t)) + sin(t). We could change this and g(yn+1, tn+1) would be different four our backwards formula here.\n",
    "def ODEfunc(y_t1, y_t0, tn, h):\n",
    "    \"\"\" The ODE we will be using in the backwards Euler\"\"\"\n",
    "    return y_t1 - y_t0 - h*(np.cos(y_t1) + np.sin(tn))\n",
    "\n",
    "#This is the derivative of the above ODE function in terms of dt. Using something like derivative() from scipy would be silly since we could use scipy to solve the ODE, so this is hard coded and would have to be changed.\n",
    "def dfuncdx(y_t1, h):\n",
    "    \"\"\" The derivative of the implicit ODE in terms of dt\"\"\"\n",
    "    return 1+h*np.sin(y_t1)\n",
    "\n",
    "\n",
    "def newton(y_t0, tn, dt, epsilon=1e-12):\n",
    "    \"\"\" \n",
    "    INPUT: y_t0 and tn, a level of precision epsilon\n",
    "    OUTPUT: y_t1\n",
    "    Functionality:finds the root of the function f(y_t1)\n",
    "    limitation: Requires the input for ODEfunc and dfuncdx already found and expressed in an implicit formula\n",
    "    \"\"\"\n",
    "    \n",
    "    # initial guess:\n",
    "    y_t1 = y_t0\n",
    "    f = func(y_t1, y_t0, tn, h)\n",
    "    dfdx = dfuncdx(y_t1, h)\n",
    "    \n",
    "    while abs(f/dfdx) > epsilon:\n",
    "        y_t1 = y_t1 - f/dfdx\n",
    "        f = func(y_t1, y_t0, tn, h)\n",
    "        dfdx = dfuncdx(y_t1, h)\n",
    "        \n",
    "    return y_t1\n"
   ]
  },
  {
   "cell_type": "code",
   "execution_count": 35,
   "metadata": {},
   "outputs": [],
   "source": [
    "#Formatting matplotlib for the next figure\n",
    "\n",
    "%matplotlib inline\n",
    "import numpy as np\n",
    "import matplotlib.pyplot as plt\n",
    "\n",
    "# Set common figure parameters\n",
    "newparams = {'figure.figsize': (16, 6), 'axes.grid': True,\n",
    "             'lines.linewidth': 1.5, 'lines.linewidth': 2,\n",
    "             'font.size': 14}\n",
    "plt.rcParams.update(newparams)"
   ]
  },
  {
   "cell_type": "markdown",
   "metadata": {},
   "source": [
    "This is where the derivative is calculated and demonstrated\n",
    "</br>\n",
    "Recall this is not my original code, please look at the [Numfy Implicit Euler](https://nbviewer.jupyter.org/urls/www.numfys.net/media/notebooks/eulers_method.ipynb) module for more information."
   ]
  },
  {
   "cell_type": "code",
   "execution_count": 37,
   "metadata": {},
   "outputs": [
    {
     "name": "stdout",
     "output_type": "stream",
     "text": [
      "x_N = 1.742352\n"
     ]
    },
    {
     "data": {
      "image/png": "[encoded data removed]",
      "text/plain": [
       "<Figure size 1152x432 with 1 Axes>"
      ]
     },
     "metadata": {
      "needs_background": "light"
     },
     "output_type": "display_data"
    }
   ],
   "source": [
    "#Using the newton and ODE functions to find the backwards Euler\n",
    "\n",
    "h = 0.001  #step size\n",
    "tN = 10  # last time\n",
    "N = int(tN/h)\n",
    "\n",
    "#Creating t values, and an array of x(t) values filled with 0 to store into for the next step\n",
    "t = np.linspace(0, tN, N+1)\n",
    "x = np.zeros(N+1)\n",
    "\n",
    "# The initial value for the IVP\n",
    "x[0] = 0\n",
    "\n",
    "#We calculate the next value using the root we find in the newton equation, which is really neat and ties with our prior numerical knowledge quaintly!\n",
    "for n in range(N):\n",
    "    x[n+1] = newton(x[n], t[n+1], h)\n",
    "\n",
    "#Printing the final deriv. value in x[t]\n",
    "print(r'x_N = %f' % x[-1])\n",
    "\n",
    "#Plotting the x(t) versus t\n",
    "plt.plot(t,x)\n",
    "plt.xlabel(r'$t$')\n",
    "plt.ylabel(r'$x(t)$')\n",
    "plt.grid();"
   ]
  },
  {
   "cell_type": "code",
   "execution_count": null,
   "metadata": {},
   "outputs": [],
   "source": []
  }
 ],
 "metadata": {
  "kernelspec": {
   "display_name": "Python 3",
   "language": "python",
   "name": "python3"
  },
  "language_info": {
   "codemirror_mode": {
    "name": "ipython",
    "version": 3
   },
   "file_extension": ".py",
   "mimetype": "text/x-python",
   "name": "python",
   "nbconvert_exporter": "python",
   "pygments_lexer": "ipython3",
   "version": "3.6.9"
  }
 },
 "nbformat": 4,
 "nbformat_minor": 4
}
